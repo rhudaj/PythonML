{
 "cells": [
  {
   "cell_type": "code",
   "execution_count": 14,
   "metadata": {},
   "outputs": [],
   "source": [
    "import pandas as pd\n",
    "import matplotlib.pyplot as plt\n",
    "import numpy as np"
   ]
  },
  {
   "cell_type": "markdown",
   "metadata": {},
   "source": []
  },
  {
   "cell_type": "markdown",
   "metadata": {},
   "source": [
    "# Read Input Data"
   ]
  },
  {
   "cell_type": "code",
   "execution_count": null,
   "metadata": {},
   "outputs": [],
   "source": [
    "df = pd.read_csv('iris.csv')\n",
    "df.info()\n",
    "df.head()"
   ]
  },
  {
   "cell_type": "code",
   "execution_count": 16,
   "metadata": {},
   "outputs": [],
   "source": [
    "def create_labeled_scatter_plot(\n",
    "    DF: pd.DataFrame,\n",
    "    x_col: str,\n",
    "    y_col: str,\n",
    "    z_col: str\n",
    "):\n",
    "    unique_labels = DF[z_col].unique()\n",
    "    colors = plt.cm.get_cmap('tab10', len(unique_labels)).colors\n",
    "\n",
    "    FIG = plt.figure(figsize=(10, 6))\n",
    "    AX = FIG.add_subplot(1, 1, 1)\n",
    "\n",
    "    for i, label in enumerate(unique_labels):\n",
    "        subset = DF[DF[z_col] == label]\n",
    "        AX.scatter(x=subset[x_col], y=subset[y_col], c=[colors[i]], label=label)\n",
    "\n",
    "    AX.set_xlabel(x_col)\n",
    "    AX.set_ylabel(y_col)\n",
    "    AX.set_title(f'{x_col} vs {y_col} by {z_col}')\n",
    "\n",
    "    AX.legend()\n",
    "    return AX"
   ]
  },
  {
   "cell_type": "code",
   "execution_count": null,
   "metadata": {},
   "outputs": [],
   "source": [
    "# Create a scatter plot\n",
    "create_labeled_scatter_plot(\n",
    "    DF=df,\n",
    "    x_col='sepal.length',\n",
    "    y_col='sepal.width',\n",
    "    z_col='variety',\n",
    ")\n",
    "\n",
    "create_labeled_scatter_plot(\n",
    "    DF=df,\n",
    "    x_col='petal.length',\n",
    "    y_col='petal.width',\n",
    "    z_col='variety',\n",
    ")"
   ]
  },
  {
   "cell_type": "markdown",
   "metadata": {},
   "source": [
    "#  Multi-class Classification\n",
    "\n",
    "Generalize the Perceptron algorithm. \n",
    "\n",
    "**One vs. All** \n",
    "- train a perceptron-classifier for each class.\n",
    "- output: $arg \\ max_i(w,x)$ (max of all predictions of classifiers)"
   ]
  },
  {
   "cell_type": "markdown",
   "metadata": {},
   "source": [
    "## Multi-class Dataframe => binary-outcome dataframes"
   ]
  },
  {
   "cell_type": "code",
   "execution_count": null,
   "metadata": {},
   "outputs": [],
   "source": [
    "def make_df_binary(\n",
    "    DF: pd.DataFrame,\n",
    "    target_col: str,\n",
    "    positive_class: str\n",
    ") -> pd.DataFrame:\n",
    "    bin_df = DF.copy()\n",
    "    bin_df.rename(columns={target_col: f'is{positive_class}'}, inplace=True)\n",
    "    bin_df[f'is{positive_class}'] = DF[target_col].apply(\n",
    "        lambda v: 1 if v == positive_class else -1\n",
    "    )\n",
    "    return bin_df\n",
    "\n",
    "def get_binary_DFs(DF: pd.DataFrame, target_col: str) -> dict[str, pd.DataFrame]:\n",
    "    unique_labels = DF[target_col].unique()\n",
    "    binary_dfs: dict[str, pd.DataFrame] = {}\n",
    "    for label in unique_labels:\n",
    "        binary_dfs[label] = make_df_binary(DF, target_col, label)\n",
    "    return binary_dfs\n",
    "\n",
    "binary_dfs = get_binary_DFs(df, 'variety')\n",
    "\n",
    "print('Binary DataFrames:')\n",
    "for label, bin_df in binary_dfs.items():\n",
    "    print(f'{label}:')\n",
    "    print(f'# of positive class: {len(bin_df[bin_df[f\"is{label}\"] == 1])}')"
   ]
  },
  {
   "cell_type": "code",
   "execution_count": null,
   "metadata": {},
   "outputs": [],
   "source": [
    "for label, BDF in binary_dfs.items():\n",
    "    create_labeled_scatter_plot(\n",
    "        DF=BDF,\n",
    "        x_col='sepal.length',\n",
    "        y_col='sepal.width',\n",
    "        z_col=f'is{label}',\n",
    "    )\n",
    "\n",
    "    create_labeled_scatter_plot(\n",
    "        DF=BDF,\n",
    "        x_col='petal.length',\n",
    "        y_col='petal.width',\n",
    "        z_col=f'is{label}',\n",
    "    )"
   ]
  },
  {
   "cell_type": "markdown",
   "metadata": {},
   "source": [
    "# Classifier "
   ]
  },
  {
   "cell_type": "markdown",
   "metadata": {},
   "source": [
    "$$\n",
    "    h(x) = sgn(w^T \\cdot x +b)\n",
    "$$"
   ]
  },
  {
   "cell_type": "code",
   "execution_count": 20,
   "metadata": {},
   "outputs": [],
   "source": [
    "def get_BinaryClassifier(w, b) -> lambda x: float:\n",
    "    '''\n",
    "        :note: take the sign of the output to get the predicted class\n",
    "    '''\n",
    "    return lambda x: (np.dot(np.transpose(w), x) + b)"
   ]
  },
  {
   "cell_type": "markdown",
   "metadata": {},
   "source": [
    "# Perceptron Algorithm"
   ]
  },
  {
   "cell_type": "code",
   "execution_count": 29,
   "metadata": {},
   "outputs": [],
   "source": [
    "# PERCEPTRON\n",
    "def Perceptron(\n",
    "    D: pd.DataFrame,\n",
    "    labelCol: str,\n",
    "    w: np.ndarray,\n",
    "    b: float,\n",
    "    delta: float,\n",
    "    onIncorrect: (lambda x, y, y_hat, w0, b0, w1, b1: None) = None,\n",
    ") -> tuple[np.ndarray, float]:\n",
    "    d = len(w) # Number of features\n",
    "    # For each sample in\n",
    "    for i in D.index:\n",
    "        # feature vector = first d columns of the ith row\n",
    "        x: np.ndarray = D.iloc[i, :d].values\n",
    "        y = D[labelCol][i]  # -1 | 1\n",
    "        # Compute prediction\n",
    "        y_hat = np.dot(np.transpose(w), x) + b\n",
    "        # Is it incorrect?\n",
    "        if y * y_hat <= delta:\n",
    "            # Calculate new parameters\n",
    "            w_i = w + x*y\n",
    "            b_i = b + y\n",
    "            # Do something\n",
    "            if(onIncorrect): onIncorrect(x, y, y_hat, w, b, w_i, b_i)\n",
    "            # Update parameters\n",
    "            w = w_i\n",
    "            b = b_i\n",
    "    # Return the classifier\n",
    "    return [w, b]"
   ]
  },
  {
   "cell_type": "code",
   "execution_count": null,
   "metadata": {},
   "outputs": [],
   "source": [
    "# EXAMPLE\n",
    "\n",
    "bin_df = binary_dfs['Versicolor']\n",
    "AX1 = create_labeled_scatter_plot(bin_df, 'sepal.length', 'sepal.width', 'isVersicolor')\n",
    "AX2 = create_labeled_scatter_plot(bin_df, 'petal.length', 'petal.width', 'isVersicolor')\n",
    "\n",
    "fix_num: int = 0\n",
    "def onIncorrect(x, y, y_hat, w0, b0, w1, b1):\n",
    "    global fix_num\n",
    "    fix_num += 1\n",
    "    print(f'''Incorrect Guess:\n",
    "    w = {w0}\n",
    "    b = {b0}\n",
    "    Feature = {x}\n",
    "    Label: {y}\n",
    "    Prediction: {y_hat}\n",
    "    w' <= {w1}\n",
    "    b' <= {b1}\n",
    "    ''')\n",
    "    # CREATE LINE (AX1)\n",
    "    def plotLine(max_x: np.ndarray, max_y: np.ndarray, m: np.ndarray, b: float, AX) -> np.ndarray:\n",
    "        x: np.ndarray = np.linspace(0, max_x, 50)  # Adjusted to 100 points\n",
    "        y = m * x + b\n",
    "        # restrict x & y to x[:i] and y[:i] where i = min(index where y > y_max, index where x > x_max)\n",
    "        y_indices = np.where(y > max_y)[0]\n",
    "        x_indices = np.where(x > max_x)[0]\n",
    "        if y_indices.size > 0 and x_indices.size > 0:\n",
    "            i = min(y_indices[0], x_indices[0])\n",
    "            x = x[:i]\n",
    "            y = y[:i]\n",
    "        # Add the line to the plot\n",
    "        AX.add_line(plt.Line2D(x, y, color=np.random.rand(3,), label=f'y = {np.round(m, 2)}x - {b}'))\n",
    "\n",
    "    plotLine(bin_df['sepal.length'].max(), bin_df['sepal.width'].max(), w1[1]/w1[0], b1, AX1)\n",
    "    plotLine(bin_df['petal.length'].max(), bin_df['petal.width'].max(), w1[2]/w1[0], b1, AX2)\n",
    "\n",
    "Perceptron(\n",
    "    D=bin_df,\n",
    "    labelCol='isVersicolor',\n",
    "    w=np.ones(bin_df.shape[1] - 1),  # Adjust the length of w to match the number of features\n",
    "    b=1,\n",
    "    delta=0,\n",
    "    onIncorrect=onIncorrect\n",
    ")\n",
    "\n",
    "AX1.legend()\n",
    "AX2.legend()"
   ]
  },
  {
   "cell_type": "code",
   "execution_count": 30,
   "metadata": {},
   "outputs": [
    {
     "name": "stdout",
     "output_type": "stream",
     "text": [
      "Incorrect Guess:\n",
      "    w = [1. 1. 1. 1.]\n",
      "    b = 1\n",
      "    Feature = [7.  3.2 4.7 1.4]\n",
      "    Label: -1\n",
      "    Prediction: 17.299999999999997\n",
      "    w' <= [-6.  -2.2 -3.7 -0.4]\n",
      "    b' <= 0\n",
      "    \n",
      "Incorrect Guess:\n",
      "    w = [1. 1. 1. 1.]\n",
      "    b = 1\n",
      "    Feature = [5.1 3.5 1.4 0.2]\n",
      "    Label: -1\n",
      "    Prediction: 11.2\n",
      "    w' <= [-4.1 -2.5 -0.4  0.8]\n",
      "    b' <= 0\n",
      "    \n",
      "Incorrect Guess:\n",
      "    w = [-4.1 -2.5 -0.4  0.8]\n",
      "    b = 0\n",
      "    Feature = [7.  3.2 4.7 1.4]\n",
      "    Label: 1\n",
      "    Prediction: -37.459999999999994\n",
      "    w' <= [2.9 0.7 4.3 2.2]\n",
      "    b' <= 1\n",
      "    \n",
      "Incorrect Guess:\n",
      "    w = [2.9 0.7 4.3 2.2]\n",
      "    b = 1\n",
      "    Feature = [6.3 3.3 6.  2.5]\n",
      "    Label: -1\n",
      "    Prediction: 52.88000000000001\n",
      "    w' <= [-3.4 -2.6 -1.7 -0.3]\n",
      "    b' <= 0\n",
      "    \n",
      "Incorrect Guess:\n",
      "    w = [1. 1. 1. 1.]\n",
      "    b = 1\n",
      "    Feature = [5.1 3.5 1.4 0.2]\n",
      "    Label: -1\n",
      "    Prediction: 11.2\n",
      "    w' <= [-4.1 -2.5 -0.4  0.8]\n",
      "    b' <= 0\n",
      "    \n",
      "Incorrect Guess:\n",
      "    w = [-4.1 -2.5 -0.4  0.8]\n",
      "    b = 0\n",
      "    Feature = [6.3 3.3 6.  2.5]\n",
      "    Label: 1\n",
      "    Prediction: -34.48\n",
      "    w' <= [2.2 0.8 5.6 3.3]\n",
      "    b' <= 1\n",
      "    \n"
     ]
    }
   ],
   "source": [
    "# Get a classifier from each binary dataset.\n",
    "labeled_classifiers = {}\n",
    "for label, bin_df in binary_dfs.items():\n",
    "    # Get the parameters\n",
    "    w,b = Perceptron(\n",
    "        D=bin_df,\n",
    "        labelCol=f'is{label}',\n",
    "        w=np.ones(bin_df.shape[1] - 1),  # Adjust the length of w to match the number of features\n",
    "        b=1,\n",
    "        delta=0,\n",
    "        onIncorrect=onIncorrect\n",
    "    )\n",
    "    classifier = get_BinaryClassifier(w, b)\n",
    "    # Create the classifier\n",
    "    labeled_classifiers[label] = classifier"
   ]
  },
  {
   "cell_type": "markdown",
   "metadata": {},
   "source": [
    "# MultiClass Classifier (One vs. All)\n",
    "\n",
    "$$\n",
    "    h(x) = min_{\\purple i}(\\purple{w_i}^T \\cdot x + \\purple b_i)\n",
    "$$"
   ]
  },
  {
   "cell_type": "code",
   "execution_count": 24,
   "metadata": {},
   "outputs": [],
   "source": [
    "def Create_OneVsAllClassifier(labeled_classifiers: dict[str, lambda x: float]):\n",
    "    def func(x):\n",
    "        # Return the label with the highest prediction\n",
    "        labeled_predictions = {label: H(x) for label, H in labeled_classifiers.items()}\n",
    "        return max(labeled_predictions, key=labeled_predictions.get)\n",
    "    return func"
   ]
  },
  {
   "cell_type": "code",
   "execution_count": 25,
   "metadata": {},
   "outputs": [],
   "source": [
    "# Create a multi-classier from the classifiers\n",
    "multi_classifier = Create_OneVsAllClassifier(labeled_classifiers)"
   ]
  },
  {
   "cell_type": "markdown",
   "metadata": {},
   "source": [
    "## Testing"
   ]
  },
  {
   "cell_type": "code",
   "execution_count": null,
   "metadata": {},
   "outputs": [],
   "source": [
    "# Apply it to the dataset\n",
    "D = df\n",
    "predictions = []\n",
    "for i in D.index:\n",
    "    x_i = D.iloc[i, :4].values\n",
    "    y_i = D['variety'][i]\n",
    "    y_hat = multi_classifier(x_i)\n",
    "    # Print the result\n",
    "    print(f'Actual: {y_i}, Predicted: {y_hat}')\n",
    "    predictions.append(y_hat)"
   ]
  },
  {
   "cell_type": "markdown",
   "metadata": {},
   "source": [
    "# Full Algorithm"
   ]
  },
  {
   "cell_type": "code",
   "execution_count": 63,
   "metadata": {},
   "outputs": [],
   "source": [
    "# ONE VS. ALL\n",
    "def get_Multiclass_OneVsAll_Classifier(\n",
    "    D: pd.DataFrame,\n",
    "    labelCol: str,\n",
    "    perceptron_iters=1\n",
    "):\n",
    "    '''\n",
    "    :param D: Training Dataset\n",
    "    :param labelCol: Column name of the label\n",
    "    :param max_perceptron_iters: Maximum number of iterations for each perceptron\n",
    "    :return: Multi-class classifier, lambda x: str\n",
    "    '''\n",
    "    # STEP 1: Get the binary datasets\n",
    "    binary_dfs = get_binary_DFs(D, labelCol)\n",
    "    # STEP 2: Get the labeled classifiers\n",
    "    labeled_classifiers = {}\n",
    "    for label, bin_df in binary_dfs.items():\n",
    "        # Start Params\n",
    "        w = np.ones(bin_df.shape[1] - 1)\n",
    "        b = 1\n",
    "        # Update Params Iteratively\n",
    "        for i in range(perceptron_iters):\n",
    "            # Get the parameters\n",
    "            w,b = Perceptron(\n",
    "                D=bin_df,\n",
    "                labelCol=f'is{label}',\n",
    "                w=w,  # Adjust the length of w to match the number of features\n",
    "                b=b,\n",
    "                delta=0,\n",
    "            )\n",
    "        # Create the classifier\n",
    "        labeled_classifiers[label] = get_BinaryClassifier(w, b)\n",
    "    # STEP 3: Create the multi-class classifier\n",
    "    return Create_OneVsAllClassifier(labeled_classifiers)\n",
    "\n",
    "classifier = get_Multiclass_OneVsAll_Classifier(df, 'variety')"
   ]
  }
 ],
 "metadata": {
  "kernelspec": {
   "display_name": "myenv",
   "language": "python",
   "name": "myenv"
  },
  "language_info": {
   "codemirror_mode": {
    "name": "ipython",
    "version": 3
   },
   "file_extension": ".py",
   "mimetype": "text/x-python",
   "name": "python",
   "nbconvert_exporter": "python",
   "pygments_lexer": "ipython3",
   "version": "3.12.6"
  },
  "orig_nbformat": 4,
  "vscode": {
   "interpreter": {
    "hash": "31f2aee4e71d21fbe5cf8b01ff0e069b9275f58929596ceb00d14d90e3e16cd6"
   }
  }
 },
 "nbformat": 4,
 "nbformat_minor": 2
}
