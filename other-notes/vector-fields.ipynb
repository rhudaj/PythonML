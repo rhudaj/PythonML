{
 "cells": [
  {
   "cell_type": "code",
   "execution_count": 2,
   "metadata": {},
   "outputs": [],
   "source": [
    "import pandas as pd\n",
    "import matplotlib.pyplot as plt\n",
    "import numpy as np\n",
    "from ipywidgets import interact"
   ]
  },
  {
   "cell_type": "code",
   "execution_count": 25,
   "metadata": {},
   "outputs": [
    {
     "data": {
      "application/vnd.jupyter.widget-view+json": {
       "model_id": "fe383e4e34124faf8707506000217b5a",
       "version_major": 2,
       "version_minor": 0
      },
      "text/plain": [
       "interactive(children=(IntSlider(value=1, description='u', max=10, min=-10), IntSlider(value=1, description='v'…"
      ]
     },
     "metadata": {},
     "output_type": "display_data"
    },
    {
     "data": {
      "text/plain": [
       "<function __main__.plot_quiver(u=1, v=1, num_x=1, num_y=1)>"
      ]
     },
     "execution_count": 25,
     "metadata": {},
     "output_type": "execute_result"
    }
   ],
   "source": [
    "# Gradient Vectors:\n",
    "f'''\n",
    "Each gradient vector needs 4 peices of information:\n",
    "    # 1. The x-coordinate of the vector, x\n",
    "    # 2. The y-coordinate of the vector, y\n",
    "    # 3. The x-component  of the vector, u\n",
    "    # 4. The y-component  of the vector, v\n",
    "'''\n",
    "# Quiver:\n",
    "'''\n",
    "quiver([X, Y], U, V, [C], **kwargs)\n",
    "- X, Y define the arrow locations\n",
    "- U, V define the arrow directions\n",
    "    - must have the same # of elements as # of arrow locations in X, Y.\n",
    "- C optionally sets the color of vectors.\n",
    "'''\n",
    "def plot_quiver(u=1, v=1, num_x=1, num_y=1):\n",
    "    X, Y = np.meshgrid(np.linspace(-5, 5, num_x), np.linspace(-5, 5, num_y))\n",
    "    plt.figure(figsize=(5, 5))  # Adjust the figure size as needed\n",
    "    plt.quiver(X, Y, u, v)\n",
    "    plt.xlim(-6, 6)\n",
    "    plt.ylim(-6, 6)\n",
    "    plt.gca().set_aspect('equal', adjustable='box')\n",
    "    plt.show()\n",
    "\n",
    "interact(plot_quiver, u=(-10, 10), v=(-10, 10), num_x=(1, 10), num_y=(1, 10))\n"
   ]
  }
 ],
 "metadata": {
  "kernelspec": {
   "display_name": "myenv",
   "language": "python",
   "name": "myenv"
  },
  "language_info": {
   "codemirror_mode": {
    "name": "ipython",
    "version": 3
   },
   "file_extension": ".py",
   "mimetype": "text/x-python",
   "name": "python",
   "nbconvert_exporter": "python",
   "pygments_lexer": "ipython3",
   "version": "3.12.6"
  }
 },
 "nbformat": 4,
 "nbformat_minor": 2
}
